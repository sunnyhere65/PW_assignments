{
 "cells": [
  {
   "attachments": {},
   "cell_type": "markdown",
   "metadata": {},
   "source": [
    "### Q1. Which function is used to open a file? What are the different modes of opening a file? Explain each mode of file opening."
   ]
  },
  {
   "attachments": {},
   "cell_type": "markdown",
   "metadata": {},
   "source": [
    "The open() function is used to open a file in Python. There are several modes in which a file can be opened, including:\n",
    "\n",
    "1) 'r': Read mode, which is used to read an existing file.\n",
    "2) 'w': Write mode, which is used to write to a file, and if the file already exists, the contents of the file will be overwritten.\n",
    "3) 'a': Append mode, which is used to write to a file, and if the file already exists, the new data will be appended to the end of the file.\n",
    "4) 'x': Exclusive creation mode, which is used to create a new file, and if the file already exists, the open operation will fail.\n",
    "5) 'b': Binary mode, which is used to read or write binary data.\n",
    "6) 't': Text mode, which is used to read or write text data.\n",
    "\n",
    " By default, the open() function opens a file in text mode."
   ]
  },
  {
   "attachments": {},
   "cell_type": "markdown",
   "metadata": {},
   "source": [
    "### Q2. Why close() function is used? Why is it important to close a file?"
   ]
  },
  {
   "attachments": {},
   "cell_type": "markdown",
   "metadata": {},
   "source": [
    "The close() function is used to close a file in Python. When a file is opened, the system reserves resources for it, and it is important to close the file when it is no longer needed to release these resources and prevent any data corruption."
   ]
  },
  {
   "attachments": {},
   "cell_type": "markdown",
   "metadata": {},
   "source": [
    "### Q3. Write a python program to create a text file. Write ‘I want to become a Data Scientist’ in that file. Then close the file. Open this file and read the content of the file."
   ]
  },
  {
   "cell_type": "code",
   "execution_count": 1,
   "metadata": {},
   "outputs": [
    {
     "name": "stdout",
     "output_type": "stream",
     "text": [
      "I want to become a Data Scientist\n"
     ]
    }
   ],
   "source": [
    "# Create a text file and write to it\n",
    "with open('my_file.txt', 'w') as file:\n",
    "    file.write('I want to become a Data Scientist')\n",
    "    file.close()\n",
    "\n",
    "# Read the contents of the file\n",
    "with open('my_file.txt', 'r') as file:\n",
    "    content = file.read()\n",
    "    print(content)"
   ]
  },
  {
   "attachments": {},
   "cell_type": "markdown",
   "metadata": {},
   "source": [
    "### Q4. Explain the following with python code: read(), readline() and readlines()."
   ]
  },
  {
   "attachments": {},
   "cell_type": "markdown",
   "metadata": {},
   "source": [
    "read(), readline(), and readlines() are methods used to read data from a file in Python:\n",
    "\n",
    "read(): Reads the entire file as a string.\n",
    "\n",
    "readline(): Reads a single line of the file.\n",
    "\n",
    "readlines(): Reads the entire file and returns a list of strings, where each element of the list represents a line of the file."
   ]
  },
  {
   "cell_type": "code",
   "execution_count": 8,
   "metadata": {},
   "outputs": [
    {
     "name": "stdout",
     "output_type": "stream",
     "text": [
      "First line\n",
      "Second line\n",
      "Third line\n",
      "\n",
      "First line\n",
      "\n",
      "Second line\n",
      "\n",
      "['First line\\n', 'Second line\\n', 'Third line\\n']\n"
     ]
    }
   ],
   "source": [
    "# read()\n",
    "with open('my_file.txt', 'r') as file:\n",
    "    content = file.read()\n",
    "    print(content)\n",
    "\n",
    "# readline()\n",
    "with open('my_file.txt', 'r') as file:\n",
    "    line1 = file.readline()\n",
    "    line2 = file.readline()\n",
    "    print(line1)\n",
    "    print(line2)\n",
    "\n",
    "# readlines()\n",
    "with open('my_file.txt', 'r') as file:\n",
    "    lines = file.readlines()\n",
    "    print(lines)"
   ]
  },
  {
   "attachments": {},
   "cell_type": "markdown",
   "metadata": {},
   "source": [
    "### Q5. Explain why with statement is used with open(). What is the advantage of using with statement and open() together?"
   ]
  },
  {
   "attachments": {},
   "cell_type": "markdown",
   "metadata": {},
   "source": [
    "The with statement in Python is used with open() to provide a context for the file operation. When a file is opened in Python, it is important to ensure that it is properly closed when it is no longer needed. The with statement makes it easy to manage the opening and closing of files, and ensures that any resources used by the file are released when the block inside the with statement is exited. The advantage of using with and open() together is that it eliminates the need to manually close the file, reduces the risk of leaving files open for too long, and helps prevent errors caused by improper file handling.\n",
    "\n",
    "In the example below, the with statement is used to open a file called example.txt in read mode. The as keyword is used to assign the file object to the variable file. The file object is then used to read the contents of the file, and the print() function is used to display the data on the console. When the block of code inside the with statement ends, the file is automatically closed.\n"
   ]
  },
  {
   "cell_type": "code",
   "execution_count": 11,
   "metadata": {},
   "outputs": [
    {
     "name": "stdout",
     "output_type": "stream",
     "text": [
      "First line\n",
      "Second line\n",
      "Third line\n",
      "\n"
     ]
    }
   ],
   "source": [
    "with open('my_file.txt', 'r') as file:\n",
    "    # Do something with the file\n",
    "    data = file.read()\n",
    "    print(data)\n",
    "# File is automatically closed after the block ends\n"
   ]
  },
  {
   "attachments": {},
   "cell_type": "markdown",
   "metadata": {},
   "source": [
    "### Q6. Explain the write() and writelines() functions. Give a suitable example."
   ]
  },
  {
   "attachments": {},
   "cell_type": "markdown",
   "metadata": {},
   "source": [
    "The write() and writelines() functions are used to write data to a file in Python.\n",
    "\n",
    "The write() function is used to write a single string to a file. Here is an example:"
   ]
  },
  {
   "cell_type": "code",
   "execution_count": 9,
   "metadata": {},
   "outputs": [],
   "source": [
    "with open('my_file.txt', 'w') as file:\n",
    "    file.write('Hello, world!\\n')\n",
    "    file.write('This is a test.')"
   ]
  },
  {
   "attachments": {},
   "cell_type": "markdown",
   "metadata": {},
   "source": [
    "In the example above, the with statement is used to open a file called my_file.txt in write mode. The write() function is then used to write two strings to the file, separated by a newline character. When the block of code inside the with statement ends, the file is automatically closed.\n",
    "\n",
    "The writelines() function is used to write a list of strings to a file. Each string is written to a new line in the file. Here is an example:"
   ]
  },
  {
   "cell_type": "code",
   "execution_count": 10,
   "metadata": {},
   "outputs": [],
   "source": [
    "lines = ['First line\\n', 'Second line\\n', 'Third line\\n']\n",
    "\n",
    "with open('my_file.txt', 'w') as file:\n",
    "    file.writelines(lines)\n"
   ]
  },
  {
   "attachments": {},
   "cell_type": "markdown",
   "metadata": {},
   "source": [
    "In the example above, the with statement is used to open a file called my_file.txt in write mode. The writelines() function is then used to write a list of three strings to the file, each separated by a newline character. When the block of code inside the with statement ends, the file is automatically closed."
   ]
  }
 ],
 "metadata": {
  "kernelspec": {
   "display_name": "Python 3",
   "language": "python",
   "name": "python3"
  },
  "language_info": {
   "codemirror_mode": {
    "name": "ipython",
    "version": 3
   },
   "file_extension": ".py",
   "mimetype": "text/x-python",
   "name": "python",
   "nbconvert_exporter": "python",
   "pygments_lexer": "ipython3",
   "version": "3.10.2"
  },
  "orig_nbformat": 4,
  "vscode": {
   "interpreter": {
    "hash": "c265db09843b9fb459d56aab47ae0d47b2dfd96b4c27ce1ecf942b3965fd420d"
   }
  }
 },
 "nbformat": 4,
 "nbformat_minor": 2
}
