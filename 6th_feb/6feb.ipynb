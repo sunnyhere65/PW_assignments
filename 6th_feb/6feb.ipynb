{
 "cells": [
  {
   "attachments": {},
   "cell_type": "markdown",
   "metadata": {},
   "source": [
    "### Create a function which will take a list as an argument and return the product of all the numbers after creating a flat list.\n",
    "### Use the below-given list as an argument for your function.\n",
    "### list1 = [1,2,3,4, [44,55,66, True], False, (34,56,78,89,34), {1,2,3,3,2,1}, {1:34, \"key2\": [55, 67, 78, 89], 4: (45, 22, 61, 34)}, [56, 'data science'], 'Machine Learning']\n",
    "### Note: you must extract numeric keys and values of the dictionary also."
   ]
  },
  {
   "cell_type": "code",
   "execution_count": 14,
   "metadata": {},
   "outputs": [
    {
     "name": "stdout",
     "output_type": "stream",
     "text": [
      "The extracted list is: [1, 2, 3, 4, 44, 55, 66, 34, 56, 78, 89, 34, 1, 2, 3, 1, 34, 4, 55, 67, 78, 89, 45, 22, 61, 34, 56]\n",
      "The Product of all numbers is: 4134711838987085478833841242112000\n"
     ]
    }
   ],
   "source": [
    "from functools import reduce\n",
    "def number_filter(l1):\n",
    "    n=[]\n",
    "    for i in l1:\n",
    "        if str(i).isnumeric():\n",
    "            n.append(i)\n",
    "        elif type(i)==list or type(i)==tuple or type(i)== set :\n",
    "            for j in i:\n",
    "                if str(j).isnumeric():\n",
    "                    n.append(j)\n",
    "        elif type(i)== dict:\n",
    "            for k,v in i.items():\n",
    "                if str(k).isnumeric() :\n",
    "                    n.append(k)\n",
    "                if str(v).isnumeric():\n",
    "                    n.append(v)\n",
    "            for k,v in i.items():\n",
    "                if str(k).isnumeric()== False :\n",
    "                    if type(v)==list or type(v)== tuple:\n",
    "                        for u in v:\n",
    "                            if str(u).isnumeric():\n",
    "                                n.append(u)\n",
    "            for k,v in i.items():\n",
    "                if str(k).isnumeric()== True :\n",
    "                    if type(v)==list or type(v)== tuple:\n",
    "                        for u in v:\n",
    "                            if str(u).isnumeric():\n",
    "                                n.append(u)\n",
    "         \n",
    "    return(n) ,(reduce(lambda x, y: x*y, n))\n",
    "    \n",
    "list1 = [1,2,3,4, [44,55,66, True], False, (34,56,78,89,34), {1,2,3,3,2,1}, {1:34, \"key2\": [55, 67, 78, 89], 4: (45,22, 61, 34)}, [56, 'data science'], 'Machine Learning']\n",
    "m, result=number_filter(list1)\n",
    "print(\"The extracted list is:\", m)\n",
    "print(\"The Product of all numbers is:\", result)\n"
   ]
  },
  {
   "attachments": {},
   "cell_type": "markdown",
   "metadata": {},
   "source": [
    "### Write a python program for encrypting a message sent to you by your friend. The logic of encryption should be such that, for a the output should be z. For b, the output should be y. For c, the output should be x respectively. Also, the whitespace should be replaced with a dollar sign. Keep the punctuation marks unchanged.\n",
    "### Input Sentence: I want to become a Data Scientist.\n",
    "### Encrypt the above input sentence using the program you just created.\n",
    "### Note: Convert the given input sentence into lowercase before encrypting. The final output should be lowercase."
   ]
  },
  {
   "cell_type": "code",
   "execution_count": 17,
   "metadata": {},
   "outputs": [
    {
     "name": "stdout",
     "output_type": "stream",
     "text": [
      "r$dzmg$gl$yvxlnv$z$wzgz$hxrvmgrhg\n"
     ]
    }
   ],
   "source": [
    "def encrypt(sentence):\n",
    "    sentence = sentence.lower()\n",
    "    result = \"\"\n",
    "    for char in sentence:\n",
    "        if char == \" \":\n",
    "            result += \"$\"\n",
    "        elif char.isalpha():\n",
    "            result += chr(122 - ord(char) + 97)\n",
    "        else:\n",
    "            result += char\n",
    "    return result\n",
    "\n",
    "sentence = \"I want to become a Data Scientist\"\n",
    "encrypted_sentence = encrypt(sentence)\n",
    "print(encrypted_sentence)\n"
   ]
  }
 ],
 "metadata": {
  "kernelspec": {
   "display_name": "Python 3",
   "language": "python",
   "name": "python3"
  },
  "language_info": {
   "codemirror_mode": {
    "name": "ipython",
    "version": 3
   },
   "file_extension": ".py",
   "mimetype": "text/x-python",
   "name": "python",
   "nbconvert_exporter": "python",
   "pygments_lexer": "ipython3",
   "version": "3.10.2"
  },
  "orig_nbformat": 4,
  "vscode": {
   "interpreter": {
    "hash": "c265db09843b9fb459d56aab47ae0d47b2dfd96b4c27ce1ecf942b3965fd420d"
   }
  }
 },
 "nbformat": 4,
 "nbformat_minor": 2
}
