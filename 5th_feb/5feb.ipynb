{
 "cells": [
  {
   "attachments": {},
   "cell_type": "markdown",
   "metadata": {},
   "source": [
    "### Q1 Explain Class and Object with respect to Object-Oriented Programming. Give a suitable example."
   ]
  },
  {
   "attachments": {},
   "cell_type": "markdown",
   "metadata": {},
   "source": [
    "A class is a blueprint or a template for creating objects. It defines a set of attributes and methods that an object can have. For example, we can have a class \"Person\" that defines the attributes like name, age, and gender, and methods like introduce() or eat(). This class can be used to create multiple objects, each representing a specific person with their own name, age, and gender.\n",
    "\n",
    "An object is an instance of a class. It has its own attributes and methods and can be manipulated or interacted with through the class's methods. For example, we can create two objects \"person1\" and \"person2\" from the class \"Person\". Each of these objects would have its own unique attributes and can perform the methods defined in the class."
   ]
  },
  {
   "cell_type": "code",
   "execution_count": 1,
   "metadata": {},
   "outputs": [
    {
     "name": "stdout",
     "output_type": "stream",
     "text": [
      "Hello, my name is Sunny\n",
      "Hello, my name is Sam\n"
     ]
    }
   ],
   "source": [
    "class Person:\n",
    "    def __init__(self, name, age, gender):\n",
    "        self.name = name\n",
    "        self.age = age\n",
    "        self.gender = gender\n",
    "    \n",
    "    def introduce(self):\n",
    "        return f\"Hello, my name is {self.name}\"\n",
    "\n",
    "person1 = Person(\"Sunny\", 20, \"Male\")\n",
    "person2 = Person(\"Sam\", 25, \"Female\")\n",
    "\n",
    "print(person1.introduce())\n",
    "print(person2.introduce())\n"
   ]
  },
  {
   "attachments": {},
   "cell_type": "markdown",
   "metadata": {},
   "source": [
    "### Q2 Name the four pillars of OOPs."
   ]
  },
  {
   "attachments": {},
   "cell_type": "markdown",
   "metadata": {},
   "source": [
    "The four pillars of OOPs are:\n",
    "i) Abstraction\n",
    "ii) Encapsulation\n",
    "iii) Inheritance\n",
    "iv) Polymorphism"
   ]
  },
  {
   "attachments": {},
   "cell_type": "markdown",
   "metadata": {},
   "source": [
    "### Q3 Explain why the __init__() function is used. Give a suitable example."
   ]
  },
  {
   "attachments": {},
   "cell_type": "markdown",
   "metadata": {},
   "source": [
    "The __init__ function, also known as the constructor, is used in Python to initialize an object's attributes when it is created. It is called automatically when a new instance of a class is created, and its purpose is to set the initial state of the object."
   ]
  },
  {
   "cell_type": "code",
   "execution_count": 2,
   "metadata": {},
   "outputs": [
    {
     "name": "stdout",
     "output_type": "stream",
     "text": [
      "Sunny\n",
      "20\n",
      "Male\n"
     ]
    }
   ],
   "source": [
    "class Person:\n",
    "    def __init__(self, name, age, gender):\n",
    "        self.name = name\n",
    "        self.age = age\n",
    "        self.gender = gender\n",
    "\n",
    "person = Person(\"Sunny\", 20, \"Male\")\n",
    "print(person.name)\n",
    "print(person.age)\n",
    "print(person.gender)\n"
   ]
  },
  {
   "attachments": {},
   "cell_type": "markdown",
   "metadata": {},
   "source": [
    "### Q4 Why self is used in OOPs?"
   ]
  },
  {
   "attachments": {},
   "cell_type": "markdown",
   "metadata": {},
   "source": [
    "In OOPs, self is used as a reference to the instance of an object on which a method is being called. It is a conventional name used to refer to the object itself, and it is passed as the first argument to every method defined in a class."
   ]
  },
  {
   "cell_type": "code",
   "execution_count": 4,
   "metadata": {},
   "outputs": [
    {
     "name": "stdout",
     "output_type": "stream",
     "text": [
      "Hello, my name is Sunny\n"
     ]
    }
   ],
   "source": [
    "class Person:\n",
    "    def __init__(self, name, age, gender):\n",
    "        self.name = name\n",
    "        self.age = age\n",
    "        self.gender = gender\n",
    "    \n",
    "    def introduce(self):\n",
    "        return f\"Hello, my name is {self.name}\"\n",
    "\n",
    "person = Person(\"Sunny\", 20, \"Male\")\n",
    "print(person.introduce())\n"
   ]
  },
  {
   "attachments": {},
   "cell_type": "markdown",
   "metadata": {},
   "source": [
    "### Q5 What is inheritance? Give an example for each type of inheritance."
   ]
  },
  {
   "attachments": {},
   "cell_type": "markdown",
   "metadata": {},
   "source": [
    "Inheritance is a key concept in object-oriented programming (OOP) that allows you to create a new class that is a modified version of an existing class. The new class inherits the attributes and methods of the existing class and can add new features or override existing ones. This allows us to create hierarchical relationships between classes and promote code reuse."
   ]
  },
  {
   "cell_type": "code",
   "execution_count": 5,
   "metadata": {},
   "outputs": [
    {
     "name": "stdout",
     "output_type": "stream",
     "text": [
      "Fido\n",
      "Canine\n",
      "Woof!\n"
     ]
    }
   ],
   "source": [
    "# Single Inheritance: When a child class inherits only a single parent class.\n",
    "\n",
    "class Animal:\n",
    "    def __init__(self, name, species):\n",
    "        self.name = name\n",
    "        self.species = species\n",
    "        \n",
    "    def make_sound(self):\n",
    "        return \"Some generic animal sound\"\n",
    "\n",
    "class Dog(Animal):\n",
    "    def make_sound(self):\n",
    "        return \"Woof!\"\n",
    "\n",
    "dog = Dog(\"Fido\", \"Canine\")\n",
    "print(dog.name)\n",
    "print(dog.species)\n",
    "print(dog.make_sound())\n"
   ]
  },
  {
   "cell_type": "code",
   "execution_count": 18,
   "metadata": {},
   "outputs": [
    {
     "name": "stdout",
     "output_type": "stream",
     "text": [
      "100\n"
     ]
    }
   ],
   "source": [
    "# Multiple Inheritance: When a child class inherits from more than one parent class.\n",
    "\n",
    "import abc\n",
    "\n",
    "class Shape(abc.ABC):\n",
    "    @abc.abstractmethod\n",
    "    def area(self):\n",
    "        pass\n",
    "    \n",
    "class Square(Shape):\n",
    "    def __init__(self, side):\n",
    "        self.side = side\n",
    "        \n",
    "    def area(self):\n",
    "        return self.side * self.side\n",
    "\n",
    "class Circle(Shape):\n",
    "    def __init__(self, radius):\n",
    "        self.radius = radius\n",
    "        \n",
    "    def area(self):\n",
    "        return 3.14 * self.radius * self.radius\n",
    "    \n",
    "class CombinedShape(Square, Circle):\n",
    "    def __init__(self, side, radius):\n",
    "        Square.__init__(self, side)\n",
    "        Circle.__init__(self, radius)\n",
    "\n",
    "combined_shape = CombinedShape(10, 5)\n",
    "print(combined_shape.area())\n"
   ]
  },
  {
   "cell_type": "code",
   "execution_count": 11,
   "metadata": {},
   "outputs": [
    {
     "name": "stdout",
     "output_type": "stream",
     "text": [
      "Sunny is 20 years old, works as a teacher, and studies at XYZ School.\n"
     ]
    }
   ],
   "source": [
    "# Multilevel Inheritance: When a child class becomes a parent class for another child class.\n",
    "\n",
    "class Grandparent:\n",
    "    def __init__(self, name, age):\n",
    "        self.name = name\n",
    "        self.age = age\n",
    "        \n",
    "    def info(self):\n",
    "        return f\"{self.name} is {self.age} years old.\"\n",
    "\n",
    "class Parent(Grandparent):\n",
    "    def __init__(self, name, age, job):\n",
    "        Grandparent.__init__(self, name, age)\n",
    "        self.job = job\n",
    "        \n",
    "    def info(self):\n",
    "        return f\"{self.name} is {self.age} years old and works as a {self.job}.\"\n",
    "\n",
    "class Child(Parent):\n",
    "    def __init__(self, name, age, job, school):\n",
    "        Parent.__init__(self, name, age, job)\n",
    "        self.school = school\n",
    "        \n",
    "    def info(self):\n",
    "        return f\"{self.name} is {self.age} years old, works as a {self.job}, and studies at {self.school}.\"\n",
    "\n",
    "child = Child(\"Sunny\", 20, \"teacher\", \"XYZ School\")\n",
    "print(child.info())\n"
   ]
  },
  {
   "cell_type": "code",
   "execution_count": 13,
   "metadata": {},
   "outputs": [
    {
     "name": "stdout",
     "output_type": "stream",
     "text": [
      "Bark\n"
     ]
    }
   ],
   "source": [
    "# Hierarchical Inheritance: Hierarchical inheritance involves multiple inheritance from the same base or parent class.\n",
    "\n",
    "class Animal:\n",
    "    def __init__(self, species):\n",
    "        self.species = species\n",
    "\n",
    "    def make_sound(self):\n",
    "        print(\"Some animal sound\")\n",
    "\n",
    "class Dog(Animal):\n",
    "    def __init__(self, breed):\n",
    "        Animal.__init__(self, species=\"Dog\")\n",
    "        self.breed = breed\n",
    "\n",
    "    def make_sound(self):\n",
    "        print(\"Bark\")\n",
    "\n",
    "class Cat(Animal):\n",
    "    def __init__(self, breed):\n",
    "        Animal.__init__(self, species=\"Cat\")\n",
    "        self.breed = breed\n",
    "\n",
    "    def make_sound(self):\n",
    "        print(\"Meow\")\n",
    "\n",
    "dog = Dog(\"Labrador\")\n",
    "dog.make_sound()"
   ]
  },
  {
   "cell_type": "code",
   "execution_count": 16,
   "metadata": {},
   "outputs": [
    {
     "name": "stdout",
     "output_type": "stream",
     "text": [
      "Sunny\n",
      "20\n",
      "Engineer\n"
     ]
    }
   ],
   "source": [
    "# Hybrid Inheritance: Hybrid inheritance involves multiple inheritance taking place in a single program.\n",
    "\n",
    "class Grandparent:\n",
    "    def __init__(self, name):\n",
    "        self.name = name\n",
    "\n",
    "class Parent1(Grandparent):\n",
    "    def __init__(self, name, age):\n",
    "        Grandparent.__init__(self, name)\n",
    "        self.age = age\n",
    "\n",
    "class Parent2:\n",
    "    def __init__(self, job):\n",
    "        self.job = job\n",
    "\n",
    "class Child(Parent1, Parent2):\n",
    "    def __init__(self, name, age, job):\n",
    "        Parent1.__init__(self, name, age)\n",
    "        Parent2.__init__(self, job)\n",
    "    \n",
    "child = Child(\"Sunny\", 20, \"Engineer\")\n",
    "print(child.name)\n",
    "print(child.age)\n",
    "print(child.job)\n"
   ]
  }
 ],
 "metadata": {
  "kernelspec": {
   "display_name": "Python 3",
   "language": "python",
   "name": "python3"
  },
  "language_info": {
   "codemirror_mode": {
    "name": "ipython",
    "version": 3
   },
   "file_extension": ".py",
   "mimetype": "text/x-python",
   "name": "python",
   "nbconvert_exporter": "python",
   "pygments_lexer": "ipython3",
   "version": "3.10.2"
  },
  "orig_nbformat": 4,
  "vscode": {
   "interpreter": {
    "hash": "c265db09843b9fb459d56aab47ae0d47b2dfd96b4c27ce1ecf942b3965fd420d"
   }
  }
 },
 "nbformat": 4,
 "nbformat_minor": 2
}
