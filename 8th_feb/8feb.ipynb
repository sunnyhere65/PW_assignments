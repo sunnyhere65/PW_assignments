{
 "cells": [
  {
   "attachments": {},
   "cell_type": "markdown",
   "metadata": {},
   "source": [
    "### Q1. What is Abstraction in OOps? Explain with an example."
   ]
  },
  {
   "attachments": {},
   "cell_type": "markdown",
   "metadata": {},
   "source": [
    "Abstraction is a concept in object-oriented programming that refers to the act of representing essential features without including the background details. Abstraction allows programmers to hide complex implementation details and focus on the important aspects of an object. \n",
    "\n",
    "In the given below code, Vehicle is an abstract base class that defines two abstract methods start() and stop(). These methods are essential features of a vehicle, but the implementation details are left to the concrete classes that inherit from the Vehicle class. The Car and Bike classes are concrete classes that implement the start() and stop() methods. In this way, the Vehicle class acts as an abstraction of the features that all vehicles have in common, while the Car and Bike classes provide the implementation details specific to cars and bikes."
   ]
  },
  {
   "cell_type": "code",
   "execution_count": 4,
   "metadata": {},
   "outputs": [
    {
     "name": "stdout",
     "output_type": "stream",
     "text": [
      "Car started\n",
      "Car stopped\n",
      "Bike started\n",
      "Bike stopped\n"
     ]
    }
   ],
   "source": [
    "from abc import ABC, abstractmethod\n",
    "\n",
    "class Vehicle(ABC):\n",
    "    @abstractmethod\n",
    "    def start(self):\n",
    "        pass\n",
    "\n",
    "    @abstractmethod\n",
    "    def stop(self):\n",
    "        pass\n",
    "\n",
    "class Car(Vehicle):\n",
    "    def start(self):\n",
    "        print(\"Car started\")\n",
    "\n",
    "    def stop(self):\n",
    "        print(\"Car stopped\")\n",
    "\n",
    "class Bike(Vehicle):\n",
    "    def start(self):\n",
    "        print(\"Bike started\")\n",
    "\n",
    "    def stop(self):\n",
    "        print(\"Bike stopped\")\n",
    "\n",
    "c = Car()\n",
    "c.start()\n",
    "c.stop()\n",
    "\n",
    "b = Bike()\n",
    "b.start()\n",
    "b.stop()"
   ]
  },
  {
   "attachments": {},
   "cell_type": "markdown",
   "metadata": {},
   "source": [
    "### Q2. Differentiate between Abstraction and Encapsulation. Explain with an example."
   ]
  },
  {
   "attachments": {},
   "cell_type": "markdown",
   "metadata": {},
   "source": [
    "Abstraction and Encapsulation are two fundamental concepts in object-oriented programming, but they serve different purposes.\n",
    "\n",
    "Abstraction refers to the act of representing essential features without including the background details. It enables programmers to hide complex implementation details and focus on the important aspects of an object. Abstraction can be achieved using abstract classes or interfaces in Python.\n",
    "\n",
    "Encapsulation, on the other hand, refers to the act of wrapping data and methods into a single unit, thereby preventing direct access to the internal details of an object. It enables programmers to control the access to the object's data and methods, preventing unintended modification of the data. Encapsulation can be achieved using access modifiers such as public, private, and protected."
   ]
  },
  {
   "cell_type": "code",
   "execution_count": 5,
   "metadata": {},
   "outputs": [
    {
     "name": "stdout",
     "output_type": "stream",
     "text": [
      "1000\n",
      "1500\n",
      "Insufficient balance\n",
      "1500\n"
     ]
    }
   ],
   "source": [
    "from abc import ABC, abstractmethod\n",
    "\n",
    "# Example of abstraction using an abstract base class\n",
    "class Shape(ABC):\n",
    "    @abstractmethod\n",
    "    def area(self):\n",
    "        pass\n",
    "\n",
    "# Example of encapsulation using a class with private data and methods\n",
    "class BankAccount:\n",
    "    def __init__(self, balance):\n",
    "        self.__balance = balance\n",
    "\n",
    "    def deposit(self, amount):\n",
    "        self.__balance += amount\n",
    "\n",
    "    def withdraw(self, amount):\n",
    "        if self.__balance >= amount:\n",
    "            self.__balance -= amount\n",
    "        else:\n",
    "            print(\"Insufficient balance\")\n",
    "\n",
    "    def get_balance(self):\n",
    "        return self.__balance\n",
    "\n",
    "account = BankAccount(1000)\n",
    "print(account.get_balance())    \n",
    "account.deposit(500)\n",
    "print(account.get_balance())    \n",
    "account.withdraw(2000)          \n",
    "print(account.get_balance())    \n"
   ]
  },
  {
   "attachments": {},
   "cell_type": "markdown",
   "metadata": {},
   "source": [
    "### Q3. What is abc module in python? Why is it used?"
   ]
  },
  {
   "attachments": {},
   "cell_type": "markdown",
   "metadata": {},
   "source": [
    "The abc module in python is used for defining abstract base classes. An abstract base class is a class that cannot be instantiated, but it can be used as a base class for other classes. The purpose of the abc module is to define a common interface for a group of related classes, and to enforce that all classes that inherit from the abstract base class implement certain methods. This allows for a high level of abstraction and provides a uniform interface for all related classes."
   ]
  },
  {
   "cell_type": "code",
   "execution_count": 6,
   "metadata": {},
   "outputs": [
    {
     "name": "stdout",
     "output_type": "stream",
     "text": [
      "Bark\n"
     ]
    }
   ],
   "source": [
    "# code to demonstrate the use of 'abc' module\n",
    "\n",
    "from abc import ABC, abstractmethod\n",
    "\n",
    "# Example of an abstract base class\n",
    "class Animal(ABC):\n",
    "    @abstractmethod\n",
    "    def make_sound(self):\n",
    "        pass\n",
    "\n",
    "# Example of a concrete class that inherits from the abstract base class\n",
    "class Dog(Animal):\n",
    "    def make_sound(self):\n",
    "        print(\"Bark\")\n",
    "\n",
    "# Create an instance of the concrete class\n",
    "d = Dog()\n",
    "d.make_sound()\n"
   ]
  },
  {
   "attachments": {},
   "cell_type": "markdown",
   "metadata": {},
   "source": [
    "### Q4. How can we achieve data abstraction?"
   ]
  },
  {
   "attachments": {},
   "cell_type": "markdown",
   "metadata": {},
   "source": [
    "Data Abstraction can be achieved in a number of ways:\n",
    "\n",
    "1) By using abstract classes and methods.\n",
    "2) By using interfaces.\n",
    "3) By using access modifiers such as private, protected and public.\n",
    "4) By using encapsulation to bundle the data and methods that operate on the data within a single unit or object."
   ]
  },
  {
   "attachments": {},
   "cell_type": "markdown",
   "metadata": {},
   "source": [
    "### Q5. Can we create an instance of an abstract class? Explain your answer."
   ]
  },
  {
   "attachments": {},
   "cell_type": "markdown",
   "metadata": {},
   "source": [
    "No, we cannot create an instance of an abstract class. An abstract class is meant to be used as a base class for other classes and provides a common interface for the related classes. The purpose of an abstract class is to enforce certain methods to be implemented by the child classes, and not to provide a direct instantiation."
   ]
  },
  {
   "cell_type": "code",
   "execution_count": 7,
   "metadata": {},
   "outputs": [
    {
     "ename": "TypeError",
     "evalue": "Can't instantiate abstract class Shape with abstract method area",
     "output_type": "error",
     "traceback": [
      "\u001b[1;31m---------------------------------------------------------------------------\u001b[0m",
      "\u001b[1;31mTypeError\u001b[0m                                 Traceback (most recent call last)",
      "\u001b[1;32mc:\\Users\\jaisw\\Desktop\\Pseudocode\\Assignments\\8th_feb\\8feb.ipynb Cell 14\u001b[0m in \u001b[0;36m<cell line: 10>\u001b[1;34m()\u001b[0m\n\u001b[0;32m      <a href='vscode-notebook-cell:/c%3A/Users/jaisw/Desktop/Pseudocode/Assignments/8th_feb/8feb.ipynb#X22sZmlsZQ%3D%3D?line=6'>7</a>\u001b[0m         \u001b[39mpass\u001b[39;00m\n\u001b[0;32m      <a href='vscode-notebook-cell:/c%3A/Users/jaisw/Desktop/Pseudocode/Assignments/8th_feb/8feb.ipynb#X22sZmlsZQ%3D%3D?line=8'>9</a>\u001b[0m \u001b[39m# Attempt to create an instance of the abstract base class\u001b[39;00m\n\u001b[1;32m---> <a href='vscode-notebook-cell:/c%3A/Users/jaisw/Desktop/Pseudocode/Assignments/8th_feb/8feb.ipynb#X22sZmlsZQ%3D%3D?line=9'>10</a>\u001b[0m s \u001b[39m=\u001b[39m Shape()\n",
      "\u001b[1;31mTypeError\u001b[0m: Can't instantiate abstract class Shape with abstract method area"
     ]
    }
   ],
   "source": [
    "from abc import ABC, abstractmethod\n",
    "\n",
    "# Example of an abstract base class\n",
    "class Shape(ABC):\n",
    "    @abstractmethod\n",
    "    def area(self):\n",
    "        pass\n",
    "\n",
    "# Attempt to create an instance of the abstract base class\n",
    "s = Shape()"
   ]
  }
 ],
 "metadata": {
  "kernelspec": {
   "display_name": "Python 3",
   "language": "python",
   "name": "python3"
  },
  "language_info": {
   "codemirror_mode": {
    "name": "ipython",
    "version": 3
   },
   "file_extension": ".py",
   "mimetype": "text/x-python",
   "name": "python",
   "nbconvert_exporter": "python",
   "pygments_lexer": "ipython3",
   "version": "3.10.2"
  },
  "orig_nbformat": 4,
  "vscode": {
   "interpreter": {
    "hash": "c265db09843b9fb459d56aab47ae0d47b2dfd96b4c27ce1ecf942b3965fd420d"
   }
  }
 },
 "nbformat": 4,
 "nbformat_minor": 2
}
